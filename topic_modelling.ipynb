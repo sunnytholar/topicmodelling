{
 "cells": [
  {
   "cell_type": "code",
   "execution_count": 1,
   "metadata": {},
   "outputs": [
    {
     "data": {
      "text/plain": [
       "['Sugar is bad to consume. My sister likes to have sugar, but not my father.',\n",
       " 'My father spends a lot of time driving my sister around to dance practice.',\n",
       " 'Doctors suggest that driving may cause increased stress and blood pressure.',\n",
       " 'Sometimes I feel pressure to perform well at school, but my father never seems to drive my sister to do better.',\n",
       " 'Health experts say that Sugar is not good for your lifestyle.']"
      ]
     },
     "execution_count": 1,
     "metadata": {},
     "output_type": "execute_result"
    }
   ],
   "source": [
    "doc1 = \"Sugar is bad to consume. My sister likes to have sugar, but not my father.\"\n",
    "doc2 = \"My father spends a lot of time driving my sister around to dance practice.\"\n",
    "doc3 = \"Doctors suggest that driving may cause increased stress and blood pressure.\"\n",
    "doc4 = \"Sometimes I feel pressure to perform well at school, but my father never seems to drive my sister to do better.\"\n",
    "doc5 = \"Health experts say that Sugar is not good for your lifestyle.\"\n",
    "\n",
    "# compile documents\n",
    "doc_complete = [doc1, doc2, doc3, doc4, doc5]\n",
    "doc_complete"
   ]
  },
  {
   "cell_type": "code",
   "execution_count": 13,
   "metadata": {},
   "outputs": [],
   "source": [
    "#Cleaning and Preprocessing\n",
    "#Cleaning is an important step before any text mining task, in this step, we will remove the punctuations, \n",
    "#stopwords and normalize the corpus.\n",
    "from nltk.corpus import stopwords \n",
    "from nltk.stem.wordnet import WordNetLemmatizer\n",
    "import string\n",
    "import pandas as pd\n",
    "\n",
    "# Importing Gensim\n",
    "import gensim\n",
    "from gensim import corpora\n"
   ]
  },
  {
   "cell_type": "code",
   "execution_count": 29,
   "metadata": {},
   "outputs": [],
   "source": [
    "stop = set(stopwords.words('english'))\n",
    "exclude = set(string.punctuation) \n",
    "\n",
    "lemma = WordNetLemmatizer()\n",
    "def clean(doc):\n",
    "    stop_free = \" \".join([i for i in doc.lower().split() if i not in stop])\n",
    "    punc_free = ''.join(ch for ch in stop_free if ch not in exclude)\n",
    "    normalized = \" \".join(lemma.lemmatize(word, pos='v') for word in punc_free.split())\n",
    "    return normalized\n",
    "\n",
    "doc_clean = [clean(doc).split() for doc in doc_complete]"
   ]
  },
  {
   "cell_type": "code",
   "execution_count": 31,
   "metadata": {},
   "outputs": [
    {
     "data": {
      "text/plain": [
       "list"
      ]
     },
     "execution_count": 31,
     "metadata": {},
     "output_type": "execute_result"
    }
   ],
   "source": [
    "doc_clean[:10]"
   ]
  },
  {
   "cell_type": "code",
   "execution_count": 43,
   "metadata": {},
   "outputs": [],
   "source": [
    "#Another way of doing cleaning ...so we can use either above one or this one.The only difference is  above will create a list\n",
    "#after pre-process and this one  will create a dataframe\n",
    "#Write a function to perform lemmatize and stem preprocessing steps on the data set.\n",
    "#Kindly note use any 1 above or this,if using above skip this step and vice versa.Also if use this method in further \n",
    "#code use processed_docs instead of doc_clean which is  output of above.\n",
    "doc_complete = pd.DataFrame(doc_complete)\n",
    "doc_complete.columns = [\"header\"]\n",
    "\n",
    "\n",
    "def lemmatize_stemming(text):\n",
    "    return WordNetLemmatizer().lemmatize(text, pos='v')\n",
    "def preprocess(text):\n",
    "    result = []\n",
    "    for token in gensim.utils.simple_preprocess(text):\n",
    "        if token not in gensim.parsing.preprocessing.STOPWORDS and len(token) > 3:\n",
    "            result.append(lemmatize_stemming(token))\n",
    "    return result\n",
    "#Now Preprocess the headline text, saving the results as ‘processed_docs’\n",
    "processed_docs = doc_complete[\"header\"].map(preprocess)\n",
    "processed_docs[:10]"
   ]
  },
  {
   "cell_type": "code",
   "execution_count": 57,
   "metadata": {},
   "outputs": [
    {
     "name": "stdout",
     "output_type": "stream",
     "text": [
      "0 bad\n",
      "1 consume\n",
      "2 father\n",
      "3 like\n",
      "4 sister\n",
      "5 sugar\n",
      "6 around\n",
      "7 dance\n",
      "8 drive\n",
      "9 lot\n",
      "10 practice\n"
     ]
    }
   ],
   "source": [
    "#Preparing Document-Term Matrix\n",
    "\n",
    "# Creating the term dictionary of our courpus, where every unique term is assigned an index. \n",
    "dictionary = corpora.Dictionary(doc_clean)\n",
    "\n",
    "\n",
    "count = 0\n",
    "for k, v in dictionary.iteritems():\n",
    "    print(k, v)\n",
    "    count += 1\n",
    "    if count > 10:\n",
    "        break\n",
    "#So this output shoes the index been applied to each word\n",
    "#Here if count break is just used to show few sample words and there index"
   ]
  },
  {
   "cell_type": "code",
   "execution_count": 55,
   "metadata": {},
   "outputs": [],
   "source": [
    "#This is  optional code and is basically used if  we want to filter some tokens  from huge amount to tokens and which is present  in rare documents\n",
    "#Filter out tokens that appear in\n",
    "    #less than 15 documents (absolute number) or\n",
    "    #more than 0.5 documents (fraction of total corpus size, not absolute number).\n",
    "    #after the above two steps, keep only the first 100000 most frequent tokens.\n",
    "dictionary.filter_extremes(no_below=15, no_above=0.5, keep_n=100000)\n",
    "\n",
    "#Dont run for this dataset as we have just used  documents for running and validating the code"
   ]
  },
  {
   "cell_type": "code",
   "execution_count": 58,
   "metadata": {},
   "outputs": [],
   "source": [
    "# Converting list of documents (corpus) into Document Term Matrix using dictionary prepared above.\n",
    "doc_term_matrix = [dictionary.doc2bow(doc) for doc in doc_clean]"
   ]
  },
  {
   "cell_type": "code",
   "execution_count": 59,
   "metadata": {},
   "outputs": [
    {
     "name": "stdout",
     "output_type": "stream",
     "text": [
      "[(0, 0.4715096067582428),\n",
      " (1, 0.4715096067582428),\n",
      " (2, 0.14965422842541531),\n",
      " (3, 0.4715096067582428),\n",
      " (4, 0.14965422842541531),\n",
      " (5, 0.5368829444421276)]\n"
     ]
    }
   ],
   "source": [
    "#So we can run multiple iterations of LDA first using document term matrix and then using TF-IDF to see which  gives us\n",
    "# more coherence score\n",
    "#TF-IDF\n",
    "#Create tf-idf model object using models.TfidfModel on ‘doc_term_matrix’ and save it to ‘tfidf’,\n",
    "#then apply transformation to the entire corpus and call it ‘corpus_tfidf’.\n",
    "#Finally we preview TF-IDF scores for our first document.\n",
    "from gensim import corpora, models\n",
    "tfidf = models.TfidfModel(doc_term_matrix)\n",
    "corpus_tfidf = tfidf[doc_term_matrix]\n",
    "from pprint import pprint\n",
    "for doc in corpus_tfidf:\n",
    "    pprint(doc)\n",
    "    break\n",
    "    "
   ]
  },
  {
   "cell_type": "code",
   "execution_count": 18,
   "metadata": {},
   "outputs": [],
   "source": [
    "#Running LDA Model\n",
    "#Next step is to create an object for LDA model and train it on Document-Term matrix. The training also requires few \n",
    "#parameters as input which are explained in the above section. The gensim module \n",
    "#allows both LDA model estimation from a training corpus and inference of topic distribution on new, unseen documents.\n",
    "\n",
    "# Creating the object for LDA model using gensim library\n",
    "Lda = gensim.models.ldamodel.LdaModel\n",
    "\n"
   ]
  },
  {
   "cell_type": "code",
   "execution_count": 62,
   "metadata": {},
   "outputs": [
    {
     "name": "stdout",
     "output_type": "stream",
     "text": [
      "[(0, '0.137*\"sugar\" + 0.055*\"consume\" + 0.055*\"bad\" + 0.055*\"like\" + 0.055*\"health\" + 0.055*\"good\" + 0.055*\"experts\" + 0.055*\"say\" + 0.055*\"lifestyle\" + 0.055*\"father\"'), (1, '0.066*\"pressure\" + 0.066*\"drive\" + 0.066*\"cause\" + 0.066*\"blood\" + 0.066*\"may\" + 0.066*\"stress\" + 0.066*\"suggest\" + 0.066*\"doctor\" + 0.066*\"increase\" + 0.016*\"sister\"'), (2, '0.072*\"father\" + 0.072*\"sister\" + 0.072*\"drive\" + 0.041*\"well\" + 0.041*\"perform\" + 0.041*\"never\" + 0.041*\"feel\" + 0.041*\"better\" + 0.041*\"seem\" + 0.041*\"sometimes\"')]\n"
     ]
    }
   ],
   "source": [
    "# Running and Trainign LDA model on the document term matrix.\n",
    "ldamodel = Lda(doc_term_matrix, num_topics=3, id2word = dictionary, passes=50)\n",
    "\n",
    "print(ldamodel.print_topics())"
   ]
  },
  {
   "cell_type": "code",
   "execution_count": 65,
   "metadata": {},
   "outputs": [
    {
     "name": "stdout",
     "output_type": "stream",
     "text": [
      "[(0, '0.137*\"sugar\" + 0.055*\"like\" + 0.055*\"consume\"'), (1, '0.066*\"pressure\" + 0.066*\"drive\" + 0.066*\"stress\"'), (2, '0.072*\"father\" + 0.072*\"sister\" + 0.072*\"drive\"')]\n"
     ]
    }
   ],
   "source": [
    "#Now let see the results..here 0 ,1, 2 ... are topic and sugar,bad and  so on are word of  that topic\n",
    "print(ldamodel.print_topics(num_topics=3, num_words=3))\n",
    "#Each line is a topic with individual topic terms and weights.Here weight represents how important that word is for the topic?\n",
    "#Topic1 can be termed as Bad Health, and Topic3 can be termed as Family."
   ]
  },
  {
   "cell_type": "code",
   "execution_count": 66,
   "metadata": {},
   "outputs": [
    {
     "name": "stdout",
     "output_type": "stream",
     "text": [
      "[(0,\n",
      "  '0.137*\"sugar\" + 0.055*\"consume\" + 0.055*\"bad\" + 0.055*\"like\" + '\n",
      "  '0.055*\"health\" + 0.055*\"good\" + 0.055*\"experts\" + 0.055*\"say\" + '\n",
      "  '0.055*\"lifestyle\" + 0.055*\"father\"'),\n",
      " (1,\n",
      "  '0.066*\"pressure\" + 0.066*\"drive\" + 0.066*\"cause\" + 0.066*\"blood\" + '\n",
      "  '0.066*\"may\" + 0.066*\"stress\" + 0.066*\"suggest\" + 0.066*\"doctor\" + '\n",
      "  '0.066*\"increase\" + 0.016*\"sister\"'),\n",
      " (2,\n",
      "  '0.072*\"father\" + 0.072*\"sister\" + 0.072*\"drive\" + 0.041*\"well\" + '\n",
      "  '0.041*\"perform\" + 0.041*\"never\" + 0.041*\"feel\" + 0.041*\"better\" + '\n",
      "  '0.041*\"seem\" + 0.041*\"sometimes\"')]\n"
     ]
    }
   ],
   "source": [
    "from pprint import pprint\n",
    "pprint(c.print_topics())"
   ]
  },
  {
   "cell_type": "code",
   "execution_count": 67,
   "metadata": {},
   "outputs": [
    {
     "name": "stdout",
     "output_type": "stream",
     "text": [
      "Topic: 0 \n",
      "Words: 0.137*\"sugar\" + 0.055*\"consume\" + 0.055*\"bad\" + 0.055*\"like\" + 0.055*\"health\" + 0.055*\"good\" + 0.055*\"experts\" + 0.055*\"say\" + 0.055*\"lifestyle\" + 0.055*\"father\"\n",
      "Topic: 1 \n",
      "Words: 0.066*\"pressure\" + 0.066*\"drive\" + 0.066*\"cause\" + 0.066*\"blood\" + 0.066*\"may\" + 0.066*\"stress\" + 0.066*\"suggest\" + 0.066*\"doctor\" + 0.066*\"increase\" + 0.016*\"sister\"\n",
      "Topic: 2 \n",
      "Words: 0.072*\"father\" + 0.072*\"sister\" + 0.072*\"drive\" + 0.041*\"well\" + 0.041*\"perform\" + 0.041*\"never\" + 0.041*\"feel\" + 0.041*\"better\" + 0.041*\"seem\" + 0.041*\"sometimes\"\n"
     ]
    }
   ],
   "source": [
    "#For each topic, we will explore the words occuring in that topic and its relative weight.\n",
    "for idx, topic in ldamodel.print_topics(-1):\n",
    "    print('Topic: {} \\nWords: {}'.format(idx, topic))\n",
    "#Can you distinguish different topics using the words in each topic and their corresponding weights"
   ]
  },
  {
   "cell_type": "code",
   "execution_count": 68,
   "metadata": {},
   "outputs": [
    {
     "name": "stdout",
     "output_type": "stream",
     "text": [
      "Topic: 0 Word: 0.052*\"sugar\" + 0.048*\"consume\" + 0.048*\"like\" + 0.048*\"bad\" + 0.040*\"well\" + 0.040*\"feel\" + 0.040*\"never\" + 0.040*\"school\" + 0.040*\"seem\" + 0.040*\"sometimes\"\n",
      "Topic: 1 Word: 0.046*\"experts\" + 0.046*\"say\" + 0.046*\"lifestyle\" + 0.046*\"health\" + 0.046*\"good\" + 0.042*\"increase\" + 0.042*\"blood\" + 0.042*\"stress\" + 0.042*\"suggest\" + 0.042*\"cause\"\n",
      "Topic: 2 Word: 0.052*\"practice\" + 0.052*\"dance\" + 0.052*\"time\" + 0.052*\"around\" + 0.052*\"spend\" + 0.052*\"lot\" + 0.033*\"drive\" + 0.032*\"father\" + 0.032*\"sister\" + 0.024*\"sugar\"\n"
     ]
    }
   ],
   "source": [
    "#Running LDA using TF-IDF\n",
    "ldamodel_tfidf = Lda(corpus_tfidf, num_topics=3, id2word = dictionary, passes=50) \n",
    "for idx, topic in ldamodel_tfidf.print_topics(-1):\n",
    "    print('Topic: {} Word: {}'.format(idx, topic))\n",
    " "
   ]
  },
  {
   "cell_type": "code",
   "execution_count": 70,
   "metadata": {},
   "outputs": [
    {
     "name": "stdout",
     "output_type": "stream",
     "text": [
      "Score: 0.7767626047134399\t Topic: 0.137*\"sugar\" + 0.055*\"like\" + 0.055*\"consume\" + 0.055*\"bad\" + 0.055*\"health\"\n",
      "Score: 0.111738421022892\t Topic: 0.066*\"pressure\" + 0.066*\"drive\" + 0.066*\"stress\" + 0.066*\"may\" + 0.066*\"blood\"\n",
      "Score: 0.11149900406599045\t Topic: 0.072*\"sister\" + 0.072*\"father\" + 0.072*\"drive\" + 0.041*\"better\" + 0.041*\"seem\"\n"
     ]
    }
   ],
   "source": [
    "#Testing model on unseen document\n",
    "unseen_document = 'I consume lot of sugar'\n",
    "new_vec = dictionary.doc2bow(preprocess(unseen_document))\n",
    "for index, score in sorted(ldamodel[new_vec], key=lambda tup: -1*tup[1]):\n",
    "    print(\"Score: {}\\t Topic: {}\".format(score, ldamodel.print_topic(index, 5)))\n",
    "#From below we can see score is more in topic 0 , hence our new document belongs to topic 1"
   ]
  },
  {
   "cell_type": "code",
   "execution_count": 71,
   "metadata": {},
   "outputs": [
    {
     "data": {
      "text/html": [
       "<div>\n",
       "<style scoped>\n",
       "    .dataframe tbody tr th:only-of-type {\n",
       "        vertical-align: middle;\n",
       "    }\n",
       "\n",
       "    .dataframe tbody tr th {\n",
       "        vertical-align: top;\n",
       "    }\n",
       "\n",
       "    .dataframe thead th {\n",
       "        text-align: right;\n",
       "    }\n",
       "</style>\n",
       "<table border=\"1\" class=\"dataframe\">\n",
       "  <thead>\n",
       "    <tr style=\"text-align: right;\">\n",
       "      <th></th>\n",
       "      <th>Document_No</th>\n",
       "      <th>Dominant_Topic</th>\n",
       "      <th>Topic_Perc_Contrib</th>\n",
       "      <th>Keywords</th>\n",
       "      <th>Text</th>\n",
       "    </tr>\n",
       "  </thead>\n",
       "  <tbody>\n",
       "    <tr>\n",
       "      <th>0</th>\n",
       "      <td>0</td>\n",
       "      <td>0.0</td>\n",
       "      <td>0.9129</td>\n",
       "      <td>sugar, consume, bad, like, health, good, experts, say, lifestyle, father</td>\n",
       "      <td>[sugar, bad, consume, sister, like, sugar, father]</td>\n",
       "    </tr>\n",
       "    <tr>\n",
       "      <th>1</th>\n",
       "      <td>1</td>\n",
       "      <td>2.0</td>\n",
       "      <td>0.9317</td>\n",
       "      <td>father, sister, drive, well, perform, never, feel, better, seem, sometimes</td>\n",
       "      <td>[father, spend, lot, time, drive, sister, around, dance, practice]</td>\n",
       "    </tr>\n",
       "    <tr>\n",
       "      <th>2</th>\n",
       "      <td>2</td>\n",
       "      <td>1.0</td>\n",
       "      <td>0.9319</td>\n",
       "      <td>pressure, drive, cause, blood, may, stress, suggest, doctor, increase, sister</td>\n",
       "      <td>[doctor, suggest, drive, may, cause, increase, stress, blood, pressure]</td>\n",
       "    </tr>\n",
       "    <tr>\n",
       "      <th>3</th>\n",
       "      <td>3</td>\n",
       "      <td>2.0</td>\n",
       "      <td>0.9472</td>\n",
       "      <td>father, sister, drive, well, perform, never, feel, better, seem, sometimes</td>\n",
       "      <td>[sometimes, feel, pressure, perform, well, school, father, never, seem, drive, sister, better]</td>\n",
       "    </tr>\n",
       "    <tr>\n",
       "      <th>4</th>\n",
       "      <td>4</td>\n",
       "      <td>0.0</td>\n",
       "      <td>0.9042</td>\n",
       "      <td>sugar, consume, bad, like, health, good, experts, say, lifestyle, father</td>\n",
       "      <td>[health, experts, say, sugar, good, lifestyle]</td>\n",
       "    </tr>\n",
       "  </tbody>\n",
       "</table>\n",
       "</div>"
      ],
      "text/plain": [
       "   Document_No  Dominant_Topic  Topic_Perc_Contrib  \\\n",
       "0            0             0.0              0.9129   \n",
       "1            1             2.0              0.9317   \n",
       "2            2             1.0              0.9319   \n",
       "3            3             2.0              0.9472   \n",
       "4            4             0.0              0.9042   \n",
       "\n",
       "                                                                        Keywords  \\\n",
       "0       sugar, consume, bad, like, health, good, experts, say, lifestyle, father   \n",
       "1     father, sister, drive, well, perform, never, feel, better, seem, sometimes   \n",
       "2  pressure, drive, cause, blood, may, stress, suggest, doctor, increase, sister   \n",
       "3     father, sister, drive, well, perform, never, feel, better, seem, sometimes   \n",
       "4       sugar, consume, bad, like, health, good, experts, say, lifestyle, father   \n",
       "\n",
       "                                                                                             Text  \n",
       "0                                              [sugar, bad, consume, sister, like, sugar, father]  \n",
       "1                              [father, spend, lot, time, drive, sister, around, dance, practice]  \n",
       "2                         [doctor, suggest, drive, may, cause, increase, stress, blood, pressure]  \n",
       "3  [sometimes, feel, pressure, perform, well, school, father, never, seem, drive, sister, better]  \n",
       "4                                                  [health, experts, say, sugar, good, lifestyle]  "
      ]
     },
     "execution_count": 71,
     "metadata": {},
     "output_type": "execute_result"
    }
   ],
   "source": [
    "#Now see the detailed view\n",
    "import gensim.corpora as corpora\n",
    "def format_topics_sentences(ldamodel=None, doc_term_matrix=doc_term_matrix, texts=doc_clean):\n",
    "    # Init output\n",
    "    sent_topics_df = pd.DataFrame()\n",
    "\n",
    "    # Get main topic in each document\n",
    "    for i, row_list in enumerate(ldamodel[doc_term_matrix]):\n",
    "        row = row_list[0] if ldamodel.per_word_topics else row_list            \n",
    "        # print(row)\n",
    "        row = sorted(row, key=lambda x: (x[1]), reverse=True)\n",
    "        # Get the Dominant topic, Perc Contribution and Keywords for each document\n",
    "        for j, (topic_num, prop_topic) in enumerate(row):\n",
    "            if j == 0:  # => dominant topic\n",
    "                wp = ldamodel.show_topic(topic_num)\n",
    "                topic_keywords = \", \".join([word for word, prop in wp])\n",
    "                sent_topics_df = sent_topics_df.append(pd.Series([int(topic_num), round(prop_topic,4), topic_keywords]), ignore_index=True)\n",
    "            else:\n",
    "                break\n",
    "    sent_topics_df.columns = ['Dominant_Topic', 'Perc_Contribution', 'Topic_Keywords']\n",
    "\n",
    "    # Add original text to the end of the output\n",
    "    contents = pd.Series(texts)\n",
    "    sent_topics_df = pd.concat([sent_topics_df, contents], axis=1)\n",
    "    return(sent_topics_df)\n",
    "\n",
    "\n",
    "df_topic_sents_keywords = format_topics_sentences(ldamodel=ldamodel, doc_term_matrix=doc_term_matrix, texts=doc_clean)\n",
    "\n",
    "# Format\n",
    "df_dominant_topic = df_topic_sents_keywords.reset_index()\n",
    "df_dominant_topic.columns = ['Document_No', 'Dominant_Topic', 'Topic_Perc_Contrib', 'Keywords', 'Text']\n",
    "df_dominant_topic.head(10)"
   ]
  },
  {
   "cell_type": "code",
   "execution_count": 72,
   "metadata": {},
   "outputs": [
    {
     "data": {
      "text/html": [
       "<div>\n",
       "<style scoped>\n",
       "    .dataframe tbody tr th:only-of-type {\n",
       "        vertical-align: middle;\n",
       "    }\n",
       "\n",
       "    .dataframe tbody tr th {\n",
       "        vertical-align: top;\n",
       "    }\n",
       "\n",
       "    .dataframe thead th {\n",
       "        text-align: right;\n",
       "    }\n",
       "</style>\n",
       "<table border=\"1\" class=\"dataframe\">\n",
       "  <thead>\n",
       "    <tr style=\"text-align: right;\">\n",
       "      <th></th>\n",
       "      <th>Topic Num</th>\n",
       "      <th>Num Documents</th>\n",
       "    </tr>\n",
       "  </thead>\n",
       "  <tbody>\n",
       "    <tr>\n",
       "      <th>0</th>\n",
       "      <td>2.0</td>\n",
       "      <td>2</td>\n",
       "    </tr>\n",
       "    <tr>\n",
       "      <th>1</th>\n",
       "      <td>0.0</td>\n",
       "      <td>2</td>\n",
       "    </tr>\n",
       "    <tr>\n",
       "      <th>2</th>\n",
       "      <td>1.0</td>\n",
       "      <td>1</td>\n",
       "    </tr>\n",
       "  </tbody>\n",
       "</table>\n",
       "</div>"
      ],
      "text/plain": [
       "   Topic Num  Num Documents\n",
       "0        2.0              2\n",
       "1        0.0              2\n",
       "2        1.0              1"
      ]
     },
     "execution_count": 72,
     "metadata": {},
     "output_type": "execute_result"
    }
   ],
   "source": [
    "df_topic_distribution = df_dominant_topic['Dominant_Topic'].value_counts().reset_index(name=\"Num Documents\")\n",
    "df_topic_distribution.columns = ['Topic Num', 'Num Documents']\n",
    "df_topic_distribution[\"Num Documents\"].sum()\n",
    "df_topic_distribution"
   ]
  },
  {
   "cell_type": "code",
   "execution_count": 73,
   "metadata": {},
   "outputs": [
    {
     "data": {
      "text/html": [
       "<div>\n",
       "<style scoped>\n",
       "    .dataframe tbody tr th:only-of-type {\n",
       "        vertical-align: middle;\n",
       "    }\n",
       "\n",
       "    .dataframe tbody tr th {\n",
       "        vertical-align: top;\n",
       "    }\n",
       "\n",
       "    .dataframe thead th {\n",
       "        text-align: right;\n",
       "    }\n",
       "</style>\n",
       "<table border=\"1\" class=\"dataframe\">\n",
       "  <thead>\n",
       "    <tr style=\"text-align: right;\">\n",
       "      <th></th>\n",
       "      <th>Topic_Num</th>\n",
       "      <th>Topic_Perc_Contrib</th>\n",
       "      <th>Keywords</th>\n",
       "      <th>Representative Text</th>\n",
       "    </tr>\n",
       "  </thead>\n",
       "  <tbody>\n",
       "    <tr>\n",
       "      <th>0</th>\n",
       "      <td>0.0</td>\n",
       "      <td>0.9129</td>\n",
       "      <td>sugar, consume, bad, like, health, good, experts, say, lifestyle, father</td>\n",
       "      <td>[sugar, bad, consume, sister, like, sugar, father]</td>\n",
       "    </tr>\n",
       "    <tr>\n",
       "      <th>1</th>\n",
       "      <td>1.0</td>\n",
       "      <td>0.9319</td>\n",
       "      <td>pressure, drive, cause, blood, may, stress, suggest, doctor, increase, sister</td>\n",
       "      <td>[doctor, suggest, drive, may, cause, increase, stress, blood, pressure]</td>\n",
       "    </tr>\n",
       "    <tr>\n",
       "      <th>2</th>\n",
       "      <td>2.0</td>\n",
       "      <td>0.9472</td>\n",
       "      <td>father, sister, drive, well, perform, never, feel, better, seem, sometimes</td>\n",
       "      <td>[sometimes, feel, pressure, perform, well, school, father, never, seem, drive, sister, better]</td>\n",
       "    </tr>\n",
       "  </tbody>\n",
       "</table>\n",
       "</div>"
      ],
      "text/plain": [
       "   Topic_Num  Topic_Perc_Contrib  \\\n",
       "0        0.0              0.9129   \n",
       "1        1.0              0.9319   \n",
       "2        2.0              0.9472   \n",
       "\n",
       "                                                                        Keywords  \\\n",
       "0       sugar, consume, bad, like, health, good, experts, say, lifestyle, father   \n",
       "1  pressure, drive, cause, blood, may, stress, suggest, doctor, increase, sister   \n",
       "2     father, sister, drive, well, perform, never, feel, better, seem, sometimes   \n",
       "\n",
       "                                                                              Representative Text  \n",
       "0                                              [sugar, bad, consume, sister, like, sugar, father]  \n",
       "1                         [doctor, suggest, drive, may, cause, increase, stress, blood, pressure]  \n",
       "2  [sometimes, feel, pressure, perform, well, school, father, never, seem, drive, sister, better]  "
      ]
     },
     "execution_count": 73,
     "metadata": {},
     "output_type": "execute_result"
    }
   ],
   "source": [
    "# Display setting to show more characters in column\n",
    "pd.options.display.max_colwidth = 1000\n",
    "\n",
    "sent_topics_sorteddf_mallet = pd.DataFrame()\n",
    "sent_topics_outdf_grpd = df_topic_sents_keywords.groupby('Dominant_Topic')\n",
    "\n",
    "for i, grp in sent_topics_outdf_grpd:\n",
    "    sent_topics_sorteddf_mallet = pd.concat([sent_topics_sorteddf_mallet, \n",
    "                                             grp.sort_values(['Perc_Contribution'], ascending=False).head(1)], \n",
    "                                            axis=0)\n",
    "\n",
    "# Reset Index    \n",
    "sent_topics_sorteddf_mallet.reset_index(drop=True, inplace=True)\n",
    "\n",
    "# Format\n",
    "sent_topics_sorteddf_mallet.columns = ['Topic_Num', \"Topic_Perc_Contrib\", \"Keywords\", \"Representative Text\"]\n",
    "\n",
    "# Show\n",
    "sent_topics_sorteddf_mallet.head(10)"
   ]
  },
  {
   "cell_type": "code",
   "execution_count": 74,
   "metadata": {},
   "outputs": [
    {
     "ename": "IndexError",
     "evalue": "list index out of range",
     "output_type": "error",
     "traceback": [
      "\u001b[1;31m---------------------------------------------------------------------------\u001b[0m",
      "\u001b[1;31mIndexError\u001b[0m                                Traceback (most recent call last)",
      "\u001b[1;32m<ipython-input-74-fe9aef7898c1>\u001b[0m in \u001b[0;36m<module>\u001b[1;34m()\u001b[0m\n\u001b[0;32m     21\u001b[0m \u001b[1;32mfor\u001b[0m \u001b[0mi\u001b[0m\u001b[1;33m,\u001b[0m \u001b[0max\u001b[0m \u001b[1;32min\u001b[0m \u001b[0menumerate\u001b[0m\u001b[1;33m(\u001b[0m\u001b[0maxes\u001b[0m\u001b[1;33m.\u001b[0m\u001b[0mflatten\u001b[0m\u001b[1;33m(\u001b[0m\u001b[1;33m)\u001b[0m\u001b[1;33m)\u001b[0m\u001b[1;33m:\u001b[0m\u001b[1;33m\u001b[0m\u001b[0m\n\u001b[0;32m     22\u001b[0m     \u001b[0mfig\u001b[0m\u001b[1;33m.\u001b[0m\u001b[0madd_subplot\u001b[0m\u001b[1;33m(\u001b[0m\u001b[0max\u001b[0m\u001b[1;33m)\u001b[0m\u001b[1;33m\u001b[0m\u001b[0m\n\u001b[1;32m---> 23\u001b[1;33m     \u001b[0mtopic_words\u001b[0m \u001b[1;33m=\u001b[0m \u001b[0mdict\u001b[0m\u001b[1;33m(\u001b[0m\u001b[0mtopics\u001b[0m\u001b[1;33m[\u001b[0m\u001b[0mi\u001b[0m\u001b[1;33m]\u001b[0m\u001b[1;33m[\u001b[0m\u001b[1;36m1\u001b[0m\u001b[1;33m]\u001b[0m\u001b[1;33m)\u001b[0m\u001b[1;33m\u001b[0m\u001b[0m\n\u001b[0m\u001b[0;32m     24\u001b[0m     \u001b[0mcloud\u001b[0m\u001b[1;33m.\u001b[0m\u001b[0mgenerate_from_frequencies\u001b[0m\u001b[1;33m(\u001b[0m\u001b[0mtopic_words\u001b[0m\u001b[1;33m,\u001b[0m \u001b[0mmax_font_size\u001b[0m\u001b[1;33m=\u001b[0m\u001b[1;36m300\u001b[0m\u001b[1;33m)\u001b[0m\u001b[1;33m\u001b[0m\u001b[0m\n\u001b[0;32m     25\u001b[0m     \u001b[0mplt\u001b[0m\u001b[1;33m.\u001b[0m\u001b[0mgca\u001b[0m\u001b[1;33m(\u001b[0m\u001b[1;33m)\u001b[0m\u001b[1;33m.\u001b[0m\u001b[0mimshow\u001b[0m\u001b[1;33m(\u001b[0m\u001b[0mcloud\u001b[0m\u001b[1;33m)\u001b[0m\u001b[1;33m\u001b[0m\u001b[0m\n",
      "\u001b[1;31mIndexError\u001b[0m: list index out of range"
     ]
    },
    {
     "data": {
      "image/png": "[encoded data removed]",
      "text/plain": [
       "<Figure size 720x720 with 4 Axes>"
      ]
     },
     "metadata": {},
     "output_type": "display_data"
    }
   ],
   "source": [
    "# 1. Wordcloud of Top N words in each topic\n",
    "from matplotlib import pyplot as plt\n",
    "from wordcloud import WordCloud, STOPWORDS\n",
    "import matplotlib.colors as mcolors\n",
    "\n",
    "cols = [color for name, color in mcolors.TABLEAU_COLORS.items()]  # more colors: 'mcolors.XKCD_COLORS'\n",
    "\n",
    "cloud = WordCloud(#stopwords=stop_words,\n",
    "                  background_color='white',\n",
    "                  width=2500,\n",
    "                  height=1800,\n",
    "                  max_words=10,\n",
    "                  colormap='tab10',\n",
    "                  color_func=lambda *args, **kwargs: cols[i],\n",
    "                  prefer_horizontal=1.0)\n",
    "\n",
    "topics = ldamodel.show_topics(formatted=False)\n",
    "\n",
    "fig, axes = plt.subplots(2, 2, figsize=(10,10), sharex=True, sharey=True)\n",
    "\n",
    "for i, ax in enumerate(axes.flatten()):\n",
    "    fig.add_subplot(ax)\n",
    "    topic_words = dict(topics[i][1])\n",
    "    cloud.generate_from_frequencies(topic_words, max_font_size=300)\n",
    "    plt.gca().imshow(cloud)\n",
    "    plt.gca().set_title('Topic ' + str(i), fontdict=dict(size=16))\n",
    "    plt.gca().axis('off')\n",
    "\n",
    "\n",
    "plt.subplots_adjust(wspace=0, hspace=0)\n",
    "plt.axis('off')\n",
    "plt.margins(x=0, y=0)\n",
    "plt.tight_layout()\n",
    "plt.show()"
   ]
  },
  {
   "cell_type": "code",
   "execution_count": null,
   "metadata": {},
   "outputs": [],
   "source": [
    "#Tips to improve results of topic modeling\n",
    "#(1) Frequency Filter - \n",
    "    #Arrange every term according to its frequency.\n",
    "    #Terms with higher frequencies are more likely to appear in the results as compared ones with low frequency.\n",
    "    #The low frequency terms are essentially weak features of the corpus, hence it is a good practice to get rid \n",
    "        #of all those weak features.\n",
    "    #An exploratory analysis of terms and their frequency can help to decide what frequency value should be considered \n",
    "        #as the threshold.\n",
    "\n",
    "#(2) Part of Speech Tag Filter\n",
    "    #POS tag filter is more about the context of the features than frequencies of features\n",
    "    #So keep the POS which is sensible\n",
    "#(3) Batch Wise LDA –\n",
    "    #In order to retrieve most important topic terms, a corpus can be divided into batches of fixed sizes.\n",
    "    #Running LDA multiple times on these batches will provide different results, however, the best topic\n",
    "    #terms will be the intersection of all batches.\n",
    "    \n",
    "#its end here\n"
   ]
  },
  {
   "cell_type": "code",
   "execution_count": null,
   "metadata": {},
   "outputs": [],
   "source": []
  }
 ],
 "metadata": {
  "kernelspec": {
   "display_name": "Python 3",
   "language": "python",
   "name": "python3"
  },
  "language_info": {
   "codemirror_mode": {
    "name": "ipython",
    "version": 3
   },
   "file_extension": ".py",
   "mimetype": "text/x-python",
   "name": "python",
   "nbconvert_exporter": "python",
   "pygments_lexer": "ipython3",
   "version": "3.6.5"
  }
 },
 "nbformat": 4,
 "nbformat_minor": 2
}
