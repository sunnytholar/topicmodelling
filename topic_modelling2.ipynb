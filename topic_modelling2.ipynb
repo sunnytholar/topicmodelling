{
 "cells": [
  {
   "cell_type": "code",
   "execution_count": 3,
   "metadata": {},
   "outputs": [],
   "source": [
    "#Referred link\n",
    "#https://towardsdatascience.com/topic-modeling-and-latent-dirichlet-allocation-in-python-9bf156893c24\n",
    "import pandas as pd"
   ]
  },
  {
   "cell_type": "code",
   "execution_count": 4,
   "metadata": {},
   "outputs": [],
   "source": [
    "#This contains data of news headlines published over a period of 15 years.\n",
    "\n",
    "data = pd.read_csv('F:\\\\Data Science\\\\JigSaw\\\\Fast revision\\\\NLP\\\\Topic Modelling\\\\abcnews-date-text.csv', error_bad_lines=False);\n"
   ]
  },
  {
   "cell_type": "code",
   "execution_count": 6,
   "metadata": {},
   "outputs": [
    {
     "data": {
      "text/plain": [
       "(1103663, 2)"
      ]
     },
     "execution_count": 6,
     "metadata": {},
     "output_type": "execute_result"
    }
   ],
   "source": [
    "data.shape"
   ]
  },
  {
   "cell_type": "code",
   "execution_count": 7,
   "metadata": {},
   "outputs": [],
   "source": [
    "data_text = data[['headline_text']]\n",
    "data_text['index'] = data_text.index\n",
    "documents = data_text"
   ]
  },
  {
   "cell_type": "code",
   "execution_count": 11,
   "metadata": {},
   "outputs": [
    {
     "name": "stdout",
     "output_type": "stream",
     "text": [
      "[nltk_data] Downloading package wordnet to\n",
      "[nltk_data]     C:\\Users\\sunny\\AppData\\Roaming\\nltk_data...\n",
      "[nltk_data]   Package wordnet is already up-to-date!\n"
     ]
    },
    {
     "data": {
      "text/plain": [
       "True"
      ]
     },
     "execution_count": 11,
     "metadata": {},
     "output_type": "execute_result"
    }
   ],
   "source": [
    "\n",
    "import gensim\n",
    "from gensim.utils import simple_preprocess\n",
    "from gensim.parsing.preprocessing import STOPWORDS\n",
    "from nltk.stem import WordNetLemmatizer, SnowballStemmer\n",
    "from nltk.stem.porter import *\n",
    "import numpy as np\n",
    "np.random.seed(2018)\n",
    "import nltk\n",
    "nltk.download('wordnet')"
   ]
  },
  {
   "cell_type": "code",
   "execution_count": 15,
   "metadata": {},
   "outputs": [],
   "source": [
    "#Write a function to perform lemmatize and stem preprocessing steps on the data set.\n",
    "def lemmatize_stemming(text):\n",
    "    return WordNetLemmatizer().lemmatize(text, pos='v')\n",
    "def preprocess(text):\n",
    "    result = []\n",
    "    for token in gensim.utils.simple_preprocess(text):\n",
    "        if token not in gensim.parsing.preprocessing.STOPWORDS and len(token) > 3:\n",
    "            result.append(lemmatize_stemming(token))\n",
    "    return result"
   ]
  },
  {
   "cell_type": "code",
   "execution_count": 16,
   "metadata": {},
   "outputs": [
    {
     "name": "stdout",
     "output_type": "stream",
     "text": [
      "original document: \n",
      "['rain', 'helps', 'dampen', 'bushfires']\n",
      "\n",
      "\n",
      " tokenized and lemmatized document: \n",
      "['rain', 'help', 'dampen', 'bushfires']\n"
     ]
    }
   ],
   "source": [
    "#Select a document to preview after preprocessing.\n",
    "doc_sample = documents[documents['index'] == 4310].values[0][0]\n",
    "print('original document: ')\n",
    "words = []\n",
    "for word in doc_sample.split(' '):\n",
    "    words.append(word)\n",
    "print(words)\n",
    "print('\\n\\n tokenized and lemmatized document: ')\n",
    "print(preprocess(doc_sample))"
   ]
  },
  {
   "cell_type": "code",
   "execution_count": 17,
   "metadata": {},
   "outputs": [
    {
     "data": {
      "text/plain": [
       "0              [decide, community, broadcast, licence]\n",
       "1                         [witness, aware, defamation]\n",
       "2           [call, infrastructure, protection, summit]\n",
       "3                          [staff, aust, strike, rise]\n",
       "4             [strike, affect, australian, travellers]\n",
       "5               [ambitious, olsson, win, triple, jump]\n",
       "6               [antic, delight, record, break, barca]\n",
       "7    [aussie, qualifier, stosur, waste, memphis, ma...\n",
       "8             [aust, address, security, council, iraq]\n",
       "9                         [australia, lock, timetable]\n",
       "Name: headline_text, dtype: object"
      ]
     },
     "execution_count": 17,
     "metadata": {},
     "output_type": "execute_result"
    }
   ],
   "source": [
    "#Now Preprocess the headline text, saving the results as ‘processed_docs’\n",
    "processed_docs = documents['headline_text'].map(preprocess)\n",
    "processed_docs[:10]"
   ]
  },
  {
   "cell_type": "code",
   "execution_count": 18,
   "metadata": {},
   "outputs": [
    {
     "name": "stdout",
     "output_type": "stream",
     "text": [
      "0 broadcast\n",
      "1 community\n",
      "2 decide\n",
      "3 licence\n",
      "4 aware\n",
      "5 defamation\n",
      "6 witness\n",
      "7 call\n",
      "8 infrastructure\n",
      "9 protection\n",
      "10 summit\n"
     ]
    }
   ],
   "source": [
    "#Create a dictionary from ‘processed_docs’ containing the number of times a word appears in the training set.\n",
    "dictionary = gensim.corpora.Dictionary(processed_docs)\n",
    "count = 0\n",
    "for k, v in dictionary.iteritems():\n",
    "    print(k, v)\n",
    "    count += 1\n",
    "    if count > 10:\n",
    "        break"
   ]
  },
  {
   "cell_type": "code",
   "execution_count": 22,
   "metadata": {},
   "outputs": [],
   "source": [
    "#Filter out tokens that appear in\n",
    "    #less than 15 documents (absolute number) or\n",
    "    #more than 0.5 documents (fraction of total corpus size, not absolute number).\n",
    "    #after the above two steps, keep only the first 100000 most frequent tokens.\n",
    "dictionary.filter_extremes(no_below=15, no_above=0.5, keep_n=100000)"
   ]
  },
  {
   "cell_type": "code",
   "execution_count": 23,
   "metadata": {},
   "outputs": [
    {
     "data": {
      "text/plain": [
       "[(112, 1), (489, 1), (970, 1), (4427, 1)]"
      ]
     },
     "execution_count": 23,
     "metadata": {},
     "output_type": "execute_result"
    }
   ],
   "source": [
    "#Gensim doc2bow\n",
    "    #For each document we create a dictionary reporting how many\n",
    "    #words and how many times those words appear. Save this to ‘bow_corpus’, then check our selected document earlier.\n",
    "bow_corpus = [dictionary.doc2bow(doc) for doc in processed_docs]\n",
    "bow_corpus[4310]"
   ]
  },
  {
   "cell_type": "code",
   "execution_count": 24,
   "metadata": {},
   "outputs": [
    {
     "name": "stdout",
     "output_type": "stream",
     "text": [
      "Word 112 (\"help\") appears 1 time.\n",
      "Word 489 (\"rain\") appears 1 time.\n",
      "Word 970 (\"bushfires\") appears 1 time.\n",
      "Word 4427 (\"dampen\") appears 1 time.\n"
     ]
    }
   ],
   "source": [
    "#Preview Bag Of Words for our sample preprocessed document.\n",
    "bow_doc_4310 = bow_corpus[4310]\n",
    "for i in range(len(bow_doc_4310)):\n",
    "    print(\"Word {} (\\\"{}\\\") appears {} time.\".format(bow_doc_4310[i][0], \n",
    "                                               dictionary[bow_doc_4310[i][0]], \n",
    "bow_doc_4310[i][1]))"
   ]
  },
  {
   "cell_type": "code",
   "execution_count": 25,
   "metadata": {},
   "outputs": [
    {
     "name": "stdout",
     "output_type": "stream",
     "text": [
      "[(0, 0.595557507312157),\n",
      " (1, 0.3948343404468723),\n",
      " (2, 0.4976240764382213),\n",
      " (3, 0.4917187993528624)]\n"
     ]
    }
   ],
   "source": [
    "#TF-IDF\n",
    "#Create tf-idf model object using models.TfidfModel on ‘bow_corpus’ and save it to ‘tfidf’,\n",
    "#then apply transformation to the entire corpus and call it ‘corpus_tfidf’.\n",
    "#Finally we preview TF-IDF scores for our first document.\n",
    "from gensim import corpora, models\n",
    "tfidf = models.TfidfModel(bow_corpus)\n",
    "corpus_tfidf = tfidf[bow_corpus]\n",
    "from pprint import pprint\n",
    "for doc in corpus_tfidf:\n",
    "    pprint(doc)\n",
    "    break"
   ]
  },
  {
   "cell_type": "code",
   "execution_count": 26,
   "metadata": {},
   "outputs": [],
   "source": [
    "#Train our lda model using gensim.models.LdaMulticore and save it to ‘lda_model’\n",
    "lda_model = gensim.models.LdaMulticore(bow_corpus, num_topics=10, id2word=dictionary, passes=2, workers=2)"
   ]
  },
  {
   "cell_type": "code",
   "execution_count": 27,
   "metadata": {},
   "outputs": [
    {
     "name": "stdout",
     "output_type": "stream",
     "text": [
      "Topic: 0 \n",
      "Words: 0.031*\"charge\" + 0.021*\"murder\" + 0.019*\"face\" + 0.016*\"interview\" + 0.016*\"jail\" + 0.015*\"shoot\" + 0.014*\"accuse\" + 0.013*\"tasmania\" + 0.012*\"police\" + 0.012*\"life\"\n",
      "Topic: 1 \n",
      "Words: 0.028*\"court\" + 0.028*\"sydney\" + 0.014*\"tell\" + 0.014*\"news\" + 0.014*\"case\" + 0.013*\"children\" + 0.013*\"hear\" + 0.012*\"water\" + 0.012*\"violence\" + 0.012*\"continue\"\n",
      "Topic: 2 \n",
      "Words: 0.025*\"adelaide\" + 0.016*\"power\" + 0.014*\"final\" + 0.014*\"lose\" + 0.012*\"royal\" + 0.011*\"beat\" + 0.011*\"darwin\" + 0.010*\"young\" + 0.010*\"commission\" + 0.010*\"station\"\n",
      "Topic: 3 \n",
      "Words: 0.033*\"police\" + 0.025*\"attack\" + 0.023*\"kill\" + 0.020*\"melbourne\" + 0.016*\"china\" + 0.015*\"arrest\" + 0.014*\"people\" + 0.013*\"league\" + 0.013*\"dead\" + 0.012*\"death\"\n",
      "Topic: 4 \n",
      "Words: 0.021*\"school\" + 0.020*\"help\" + 0.019*\"country\" + 0.018*\"government\" + 0.018*\"say\" + 0.014*\"family\" + 0.014*\"minister\" + 0.013*\"state\" + 0.012*\"need\" + 0.012*\"flood\"\n",
      "Topic: 5 \n",
      "Words: 0.019*\"change\" + 0.018*\"call\" + 0.016*\"plan\" + 0.015*\"council\" + 0.011*\"concern\" + 0.011*\"say\" + 0.011*\"meet\" + 0.010*\"want\" + 0.010*\"farm\" + 0.009*\"vote\"\n",
      "Topic: 6 \n",
      "Words: 0.037*\"australian\" + 0.019*\"open\" + 0.018*\"market\" + 0.016*\"brisbane\" + 0.014*\"year\" + 0.013*\"record\" + 0.013*\"share\" + 0.012*\"turnbull\" + 0.010*\"bank\" + 0.010*\"house\"\n",
      "Topic: 7 \n",
      "Words: 0.044*\"australia\" + 0.031*\"south\" + 0.017*\"fight\" + 0.013*\"game\" + 0.013*\"hobart\" + 0.012*\"program\" + 0.012*\"korea\" + 0.011*\"question\" + 0.011*\"reveal\" + 0.010*\"east\"\n",
      "Topic: 8 \n",
      "Words: 0.026*\"queensland\" + 0.021*\"north\" + 0.018*\"election\" + 0.017*\"live\" + 0.016*\"rural\" + 0.016*\"years\" + 0.014*\"labor\" + 0.013*\"service\" + 0.013*\"national\" + 0.013*\"health\"\n",
      "Topic: 9 \n",
      "Words: 0.037*\"trump\" + 0.022*\"crash\" + 0.019*\"die\" + 0.017*\"miss\" + 0.016*\"coast\" + 0.016*\"donald\" + 0.015*\"rise\" + 0.015*\"tasmanian\" + 0.014*\"price\" + 0.014*\"break\"\n"
     ]
    }
   ],
   "source": [
    "#For each topic, we will explore the words occuring in that topic and its relative weight.\n",
    "for idx, topic in lda_model.print_topics(-1):\n",
    "    print('Topic: {} \\nWords: {}'.format(idx, topic))\n",
    "#Can you distinguish different topics using the words in each topic and their corresponding weights?    "
   ]
  },
  {
   "cell_type": "code",
   "execution_count": 28,
   "metadata": {},
   "outputs": [
    {
     "name": "stdout",
     "output_type": "stream",
     "text": [
      "Topic: 0 Word: 0.014*\"tasmania\" + 0.013*\"drum\" + 0.007*\"december\" + 0.006*\"celebrate\" + 0.006*\"social\" + 0.005*\"obama\" + 0.004*\"nation\" + 0.004*\"media\" + 0.004*\"detention\" + 0.004*\"stream\"\n",
      "Topic: 1 Word: 0.015*\"rural\" + 0.011*\"news\" + 0.010*\"weather\" + 0.007*\"michael\" + 0.007*\"national\" + 0.007*\"christmas\" + 0.007*\"climate\" + 0.007*\"friday\" + 0.006*\"rain\" + 0.006*\"wednesday\"\n",
      "Topic: 2 Word: 0.010*\"government\" + 0.008*\"health\" + 0.008*\"fund\" + 0.007*\"plan\" + 0.005*\"sport\" + 0.005*\"indigenous\" + 0.005*\"farm\" + 0.005*\"federal\" + 0.005*\"people\" + 0.005*\"service\"\n",
      "Topic: 3 Word: 0.018*\"market\" + 0.011*\"price\" + 0.010*\"share\" + 0.009*\"rise\" + 0.008*\"business\" + 0.008*\"guilty\" + 0.007*\"australian\" + 0.007*\"commission\" + 0.007*\"plead\" + 0.006*\"bank\"\n",
      "Topic: 4 Word: 0.018*\"police\" + 0.013*\"crash\" + 0.011*\"kill\" + 0.009*\"shoot\" + 0.008*\"miss\" + 0.008*\"search\" + 0.008*\"attack\" + 0.008*\"dead\" + 0.008*\"arrest\" + 0.007*\"grandstand\"\n",
      "Topic: 5 Word: 0.021*\"interview\" + 0.009*\"john\" + 0.008*\"david\" + 0.007*\"october\" + 0.007*\"north\" + 0.007*\"korea\" + 0.006*\"thursday\" + 0.005*\"april\" + 0.005*\"quiz\" + 0.005*\"cyclone\"\n",
      "Topic: 6 Word: 0.018*\"charge\" + 0.014*\"court\" + 0.014*\"murder\" + 0.011*\"jail\" + 0.009*\"assault\" + 0.009*\"accuse\" + 0.008*\"sentence\" + 0.008*\"woman\" + 0.007*\"police\" + 0.007*\"november\"\n",
      "Topic: 7 Word: 0.024*\"country\" + 0.021*\"hour\" + 0.012*\"podcast\" + 0.011*\"donald\" + 0.010*\"turnbull\" + 0.006*\"malcolm\" + 0.006*\"say\" + 0.005*\"pacific\" + 0.005*\"liberal\" + 0.005*\"labor\"\n",
      "Topic: 8 Word: 0.008*\"street\" + 0.008*\"mother\" + 0.008*\"final\" + 0.008*\"wall\" + 0.007*\"open\" + 0.007*\"league\" + 0.005*\"round\" + 0.005*\"grain\" + 0.005*\"harvest\" + 0.005*\"paul\"\n",
      "Topic: 9 Word: 0.020*\"trump\" + 0.012*\"australia\" + 0.009*\"election\" + 0.007*\"marriage\" + 0.007*\"test\" + 0.007*\"south\" + 0.006*\"rugby\" + 0.006*\"world\" + 0.006*\"east\" + 0.006*\"july\"\n"
     ]
    }
   ],
   "source": [
    "#Running LDA using TF-IDF\n",
    "lda_model_tfidf = gensim.models.LdaMulticore(corpus_tfidf, num_topics=10, id2word=dictionary, passes=2, workers=4)\n",
    "for idx, topic in lda_model_tfidf.print_topics(-1):\n",
    "    print('Topic: {} Word: {}'.format(idx, topic))"
   ]
  },
  {
   "cell_type": "code",
   "execution_count": 29,
   "metadata": {},
   "outputs": [
    {
     "data": {
      "text/plain": [
       "['rain', 'help', 'dampen', 'bushfires']"
      ]
     },
     "execution_count": 29,
     "metadata": {},
     "output_type": "execute_result"
    }
   ],
   "source": [
    "#Again, can you distinguish different topics using the words in each topic and their corresponding weights?\n",
    "processed_docs[4310]"
   ]
  },
  {
   "cell_type": "code",
   "execution_count": 30,
   "metadata": {},
   "outputs": [
    {
     "name": "stdout",
     "output_type": "stream",
     "text": [
      "\n",
      "Score: 0.42051535844802856\t \n",
      "Topic: 0.021*\"school\" + 0.020*\"help\" + 0.019*\"country\" + 0.018*\"government\" + 0.018*\"say\" + 0.014*\"family\" + 0.014*\"minister\" + 0.013*\"state\" + 0.012*\"need\" + 0.012*\"flood\"\n",
      "\n",
      "Score: 0.22016997635364532\t \n",
      "Topic: 0.026*\"queensland\" + 0.021*\"north\" + 0.018*\"election\" + 0.017*\"live\" + 0.016*\"rural\" + 0.016*\"years\" + 0.014*\"labor\" + 0.013*\"service\" + 0.013*\"national\" + 0.013*\"health\"\n",
      "\n",
      "Score: 0.21913816034793854\t \n",
      "Topic: 0.031*\"charge\" + 0.021*\"murder\" + 0.019*\"face\" + 0.016*\"interview\" + 0.016*\"jail\" + 0.015*\"shoot\" + 0.014*\"accuse\" + 0.013*\"tasmania\" + 0.012*\"police\" + 0.012*\"life\"\n",
      "\n",
      "Score: 0.02002524398267269\t \n",
      "Topic: 0.044*\"australia\" + 0.031*\"south\" + 0.017*\"fight\" + 0.013*\"game\" + 0.013*\"hobart\" + 0.012*\"program\" + 0.012*\"korea\" + 0.011*\"question\" + 0.011*\"reveal\" + 0.010*\"east\"\n",
      "\n",
      "Score: 0.020025203004479408\t \n",
      "Topic: 0.028*\"court\" + 0.028*\"sydney\" + 0.014*\"tell\" + 0.014*\"news\" + 0.014*\"case\" + 0.013*\"children\" + 0.013*\"hear\" + 0.012*\"water\" + 0.012*\"violence\" + 0.012*\"continue\"\n",
      "\n",
      "Score: 0.020025203004479408\t \n",
      "Topic: 0.025*\"adelaide\" + 0.016*\"power\" + 0.014*\"final\" + 0.014*\"lose\" + 0.012*\"royal\" + 0.011*\"beat\" + 0.011*\"darwin\" + 0.010*\"young\" + 0.010*\"commission\" + 0.010*\"station\"\n",
      "\n",
      "Score: 0.020025203004479408\t \n",
      "Topic: 0.033*\"police\" + 0.025*\"attack\" + 0.023*\"kill\" + 0.020*\"melbourne\" + 0.016*\"china\" + 0.015*\"arrest\" + 0.014*\"people\" + 0.013*\"league\" + 0.013*\"dead\" + 0.012*\"death\"\n",
      "\n",
      "Score: 0.020025203004479408\t \n",
      "Topic: 0.019*\"change\" + 0.018*\"call\" + 0.016*\"plan\" + 0.015*\"council\" + 0.011*\"concern\" + 0.011*\"say\" + 0.011*\"meet\" + 0.010*\"want\" + 0.010*\"farm\" + 0.009*\"vote\"\n",
      "\n",
      "Score: 0.020025203004479408\t \n",
      "Topic: 0.037*\"australian\" + 0.019*\"open\" + 0.018*\"market\" + 0.016*\"brisbane\" + 0.014*\"year\" + 0.013*\"record\" + 0.013*\"share\" + 0.012*\"turnbull\" + 0.010*\"bank\" + 0.010*\"house\"\n",
      "\n",
      "Score: 0.020025203004479408\t \n",
      "Topic: 0.037*\"trump\" + 0.022*\"crash\" + 0.019*\"die\" + 0.017*\"miss\" + 0.016*\"coast\" + 0.016*\"donald\" + 0.015*\"rise\" + 0.015*\"tasmanian\" + 0.014*\"price\" + 0.014*\"break\"\n"
     ]
    }
   ],
   "source": [
    "for index, score in sorted(lda_model[bow_corpus[4310]], key=lambda tup: -1*tup[1]):\n",
    "    print(\"\\nScore: {}\\t \\nTopic: {}\".format(score, lda_model.print_topic(index, 10)))"
   ]
  },
  {
   "cell_type": "code",
   "execution_count": 31,
   "metadata": {
    "collapsed": true
   },
   "outputs": [
    {
     "name": "stdout",
     "output_type": "stream",
     "text": [
      "\n",
      "Score: 0.5584179162979126\t \n",
      "Topic: 0.021*\"interview\" + 0.009*\"john\" + 0.008*\"david\" + 0.007*\"october\" + 0.007*\"north\" + 0.007*\"korea\" + 0.006*\"thursday\" + 0.005*\"april\" + 0.005*\"quiz\" + 0.005*\"cyclone\"\n",
      "\n",
      "Score: 0.2815326452255249\t \n",
      "Topic: 0.015*\"rural\" + 0.011*\"news\" + 0.010*\"weather\" + 0.007*\"michael\" + 0.007*\"national\" + 0.007*\"christmas\" + 0.007*\"climate\" + 0.007*\"friday\" + 0.006*\"rain\" + 0.006*\"wednesday\"\n",
      "\n",
      "Score: 0.02000921405851841\t \n",
      "Topic: 0.010*\"government\" + 0.008*\"health\" + 0.008*\"fund\" + 0.007*\"plan\" + 0.005*\"sport\" + 0.005*\"indigenous\" + 0.005*\"farm\" + 0.005*\"federal\" + 0.005*\"people\" + 0.005*\"service\"\n",
      "\n",
      "Score: 0.020006341859698296\t \n",
      "Topic: 0.024*\"country\" + 0.021*\"hour\" + 0.012*\"podcast\" + 0.011*\"donald\" + 0.010*\"turnbull\" + 0.006*\"malcolm\" + 0.006*\"say\" + 0.005*\"pacific\" + 0.005*\"liberal\" + 0.005*\"labor\"\n",
      "\n",
      "Score: 0.020006325095891953\t \n",
      "Topic: 0.018*\"police\" + 0.013*\"crash\" + 0.011*\"kill\" + 0.009*\"shoot\" + 0.008*\"miss\" + 0.008*\"search\" + 0.008*\"attack\" + 0.008*\"dead\" + 0.008*\"arrest\" + 0.007*\"grandstand\"\n",
      "\n",
      "Score: 0.020005712285637856\t \n",
      "Topic: 0.018*\"market\" + 0.011*\"price\" + 0.010*\"share\" + 0.009*\"rise\" + 0.008*\"business\" + 0.008*\"guilty\" + 0.007*\"australian\" + 0.007*\"commission\" + 0.007*\"plead\" + 0.006*\"bank\"\n",
      "\n",
      "Score: 0.020005634054541588\t \n",
      "Topic: 0.018*\"charge\" + 0.014*\"court\" + 0.014*\"murder\" + 0.011*\"jail\" + 0.009*\"assault\" + 0.009*\"accuse\" + 0.008*\"sentence\" + 0.008*\"woman\" + 0.007*\"police\" + 0.007*\"november\"\n",
      "\n",
      "Score: 0.02000560611486435\t \n",
      "Topic: 0.008*\"street\" + 0.008*\"mother\" + 0.008*\"final\" + 0.008*\"wall\" + 0.007*\"open\" + 0.007*\"league\" + 0.005*\"round\" + 0.005*\"grain\" + 0.005*\"harvest\" + 0.005*\"paul\"\n",
      "\n",
      "Score: 0.020005332306027412\t \n",
      "Topic: 0.014*\"tasmania\" + 0.013*\"drum\" + 0.007*\"december\" + 0.006*\"celebrate\" + 0.006*\"social\" + 0.005*\"obama\" + 0.004*\"nation\" + 0.004*\"media\" + 0.004*\"detention\" + 0.004*\"stream\"\n",
      "\n",
      "Score: 0.020005211234092712\t \n",
      "Topic: 0.020*\"trump\" + 0.012*\"australia\" + 0.009*\"election\" + 0.007*\"marriage\" + 0.007*\"test\" + 0.007*\"south\" + 0.006*\"rugby\" + 0.006*\"world\" + 0.006*\"east\" + 0.006*\"july\"\n"
     ]
    }
   ],
   "source": [
    "#Performance evaluation by classifying sample document using LDA TF-IDF model.\n",
    "for index, score in sorted(lda_model_tfidf[bow_corpus[4310]], key=lambda tup: -1*tup[1]):\n",
    "    print(\"\\nScore: {}\\t \\nTopic: {}\".format(score, lda_model_tfidf.print_topic(index, 10)))\n",
    "#Our test document has the highest probability to be part of the topic that our model assigned, which is the accurate classification."
   ]
  },
  {
   "cell_type": "code",
   "execution_count": 32,
   "metadata": {},
   "outputs": [
    {
     "name": "stdout",
     "output_type": "stream",
     "text": [
      "Score: 0.6582505702972412\t Topic: 0.021*\"school\" + 0.020*\"help\" + 0.019*\"country\" + 0.018*\"government\" + 0.018*\"say\"\n",
      "Score: 0.2083785980939865\t Topic: 0.037*\"australian\" + 0.019*\"open\" + 0.018*\"market\" + 0.016*\"brisbane\" + 0.014*\"year\"\n",
      "Score: 0.016673319041728973\t Topic: 0.019*\"change\" + 0.018*\"call\" + 0.016*\"plan\" + 0.015*\"council\" + 0.011*\"concern\"\n",
      "Score: 0.016671499237418175\t Topic: 0.025*\"adelaide\" + 0.016*\"power\" + 0.014*\"final\" + 0.014*\"lose\" + 0.012*\"royal\"\n",
      "Score: 0.01667100004851818\t Topic: 0.031*\"charge\" + 0.021*\"murder\" + 0.019*\"face\" + 0.016*\"interview\" + 0.016*\"jail\"\n",
      "Score: 0.01667100004851818\t Topic: 0.028*\"court\" + 0.028*\"sydney\" + 0.014*\"tell\" + 0.014*\"news\" + 0.014*\"case\"\n",
      "Score: 0.01667100004851818\t Topic: 0.033*\"police\" + 0.025*\"attack\" + 0.023*\"kill\" + 0.020*\"melbourne\" + 0.016*\"china\"\n",
      "Score: 0.01667100004851818\t Topic: 0.044*\"australia\" + 0.031*\"south\" + 0.017*\"fight\" + 0.013*\"game\" + 0.013*\"hobart\"\n",
      "Score: 0.01667100004851818\t Topic: 0.026*\"queensland\" + 0.021*\"north\" + 0.018*\"election\" + 0.017*\"live\" + 0.016*\"rural\"\n",
      "Score: 0.01667100004851818\t Topic: 0.037*\"trump\" + 0.022*\"crash\" + 0.019*\"die\" + 0.017*\"miss\" + 0.016*\"coast\"\n"
     ]
    }
   ],
   "source": [
    "#Testing model on unseen document\n",
    "unseen_document = 'How a Pentagon deal became an identity crisis for Google'\n",
    "bow_vector = dictionary.doc2bow(preprocess(unseen_document))\n",
    "for index, score in sorted(lda_model[bow_vector], key=lambda tup: -1*tup[1]):\n",
    "    print(\"Score: {}\\t Topic: {}\".format(score, lda_model.print_topic(index, 5)))"
   ]
  },
  {
   "cell_type": "code",
   "execution_count": null,
   "metadata": {},
   "outputs": [],
   "source": []
  }
 ],
 "metadata": {
  "kernelspec": {
   "display_name": "Python 3",
   "language": "python",
   "name": "python3"
  },
  "language_info": {
   "codemirror_mode": {
    "name": "ipython",
    "version": 3
   },
   "file_extension": ".py",
   "mimetype": "text/x-python",
   "name": "python",
   "nbconvert_exporter": "python",
   "pygments_lexer": "ipython3",
   "version": "3.6.5"
  }
 },
 "nbformat": 4,
 "nbformat_minor": 2
}
